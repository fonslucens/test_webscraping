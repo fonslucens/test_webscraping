{
 "cells": [
  {
   "cell_type": "code",
   "execution_count": 1,
   "id": "ba85aaa3",
   "metadata": {},
   "outputs": [],
   "source": [
    "import requests"
   ]
  },
  {
   "cell_type": "code",
   "execution_count": 2,
   "id": "f0a204f6",
   "metadata": {},
   "outputs": [],
   "source": [
    "path = 'http://media.daum.net/economic/'\n",
    "req = requests.get(path)"
   ]
  },
  {
   "cell_type": "code",
   "execution_count": 3,
   "id": "1a0edbb7",
   "metadata": {},
   "outputs": [
    {
     "data": {
      "text/plain": [
       "200"
      ]
     },
     "execution_count": 3,
     "metadata": {},
     "output_type": "execute_result"
    }
   ],
   "source": [
    "req.status_code"
   ]
  },
  {
   "cell_type": "code",
   "execution_count": 4,
   "id": "01e9c4f1",
   "metadata": {},
   "outputs": [],
   "source": [
    "from bs4 import BeautifulSoup"
   ]
  },
  {
   "cell_type": "code",
   "execution_count": 5,
   "id": "900a1b0b",
   "metadata": {},
   "outputs": [],
   "source": [
    "soup = BeautifulSoup(req.content, 'html.parser')"
   ]
  },
  {
   "cell_type": "code",
   "execution_count": 6,
   "id": "0261c990",
   "metadata": {},
   "outputs": [
    {
     "data": {
      "text/plain": [
       "bs4.BeautifulSoup"
      ]
     },
     "execution_count": 6,
     "metadata": {},
     "output_type": "execute_result"
    }
   ],
   "source": [
    "type(soup)"
   ]
  },
  {
   "cell_type": "code",
   "execution_count": 9,
   "id": "ddc247a2",
   "metadata": {},
   "outputs": [
    {
     "data": {
      "text/plain": [
       "bs4.element.ResultSet"
      ]
     },
     "execution_count": 9,
     "metadata": {},
     "output_type": "execute_result"
    }
   ],
   "source": [
    "result = soup.select('div > strong.tit_thumb > a[href].link_txt')\n",
    "type(result)"
   ]
  },
  {
   "cell_type": "code",
   "execution_count": 10,
   "id": "aec1f3dc",
   "metadata": {},
   "outputs": [
    {
     "data": {
      "text/plain": [
       "<a class=\"link_txt\" data-tiara-custom=\"contentUniqueKey=hamny-20210624171137447\" data-tiara-id=\"20210624171137447\" data-tiara-layer=\"article_main\" data-tiara-ordnum=\"1\" data-tiara-type=\"harmony\" href=\"https://news.v.daum.net/v/20210624171137447\">정용진발 이커머스 지각변동..'승자의 저주' 우려 없나</a>"
      ]
     },
     "execution_count": 10,
     "metadata": {},
     "output_type": "execute_result"
    }
   ],
   "source": [
    "result[0]"
   ]
  },
  {
   "cell_type": "code",
   "execution_count": 11,
   "id": "ef82b955",
   "metadata": {},
   "outputs": [],
   "source": [
    "tag = result[0]"
   ]
  },
  {
   "cell_type": "code",
   "execution_count": 12,
   "id": "aa64e138",
   "metadata": {},
   "outputs": [
    {
     "data": {
      "text/plain": [
       "\"정용진발 이커머스 지각변동..'승자의 저주' 우려 없나\""
      ]
     },
     "execution_count": 12,
     "metadata": {},
     "output_type": "execute_result"
    }
   ],
   "source": [
    "tag.text"
   ]
  },
  {
   "cell_type": "code",
   "execution_count": 13,
   "id": "a2284bca",
   "metadata": {},
   "outputs": [
    {
     "data": {
      "text/plain": [
       "'https://news.v.daum.net/v/20210624171137447'"
      ]
     },
     "execution_count": 13,
     "metadata": {},
     "output_type": "execute_result"
    }
   ],
   "source": [
    "tag['href']"
   ]
  },
  {
   "cell_type": "code",
   "execution_count": 14,
   "id": "8bbad975",
   "metadata": {},
   "outputs": [
    {
     "name": "stdout",
     "output_type": "stream",
     "text": [
      "정용진발 이커머스 지각변동..'승자의 저주' 우려 없나 https://news.v.daum.net/v/20210624171137447\n",
      "재난지원금 소득하위 80% 유력..가구당 100만원 이상도 검토 https://news.v.daum.net/v/20210624170820312\n",
      "신세계 이마트, 이베이코리아 3조4000억원에 인수 .. e커머스 2위 등극 https://news.v.daum.net/v/20210624170820311\n",
      "경총 \"최저임금 1만800원, 소상공인·중기에 충격\" https://news.v.daum.net/v/20210624170625240\n",
      "신세계, 3.4조에 이베이코리아 품었다..이커머스 2위로 https://news.v.daum.net/v/20210624165908899\n"
     ]
    }
   ],
   "source": [
    "for tag in result:\n",
    "    print(tag.text.strip(), tag['href'].strip())"
   ]
  },
  {
   "cell_type": "code",
   "execution_count": null,
   "id": "ff4202dd",
   "metadata": {},
   "outputs": [],
   "source": []
  }
 ],
 "metadata": {
  "kernelspec": {
   "display_name": "Python 3",
   "language": "python",
   "name": "python3"
  },
  "language_info": {
   "codemirror_mode": {
    "name": "ipython",
    "version": 3
   },
   "file_extension": ".py",
   "mimetype": "text/x-python",
   "name": "python",
   "nbconvert_exporter": "python",
   "pygments_lexer": "ipython3",
   "version": "3.8.8"
  }
 },
 "nbformat": 4,
 "nbformat_minor": 5
}
