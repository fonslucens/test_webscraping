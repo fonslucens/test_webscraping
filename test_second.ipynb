{
 "cells": [
  {
   "cell_type": "code",
   "execution_count": 1,
   "id": "5b1ea51b",
   "metadata": {},
   "outputs": [
    {
     "name": "stdout",
     "output_type": "stream",
     "text": [
      " C 드라이브의 볼륨에는 이름이 없습니다.\n",
      " 볼륨 일련 번호: 78D5-6279\n",
      "\n",
      " C:\\Develops\\files 디렉터리\n",
      "\n",
      "2021-06-23  오후 02:53            27,136 sample_1.xls\n",
      "               1개 파일              27,136 바이트\n",
      "               0개 디렉터리  209,559,740,416 바이트 남음\n"
     ]
    }
   ],
   "source": [
    "!dir .\\files\\sample_1.xls"
   ]
  },
  {
   "cell_type": "code",
   "execution_count": 2,
   "id": "a76a4d5f",
   "metadata": {},
   "outputs": [],
   "source": [
    "import pandas as pd"
   ]
  },
  {
   "cell_type": "code",
   "execution_count": 4,
   "id": "ea625615",
   "metadata": {},
   "outputs": [],
   "source": [
    "sample1 = pd.read_excel('./files/sample_1.xls',\n",
    "                       header=1,\n",
    "                       skipfooter=2,\n",
    "                       usecols='A:C')"
   ]
  },
  {
   "cell_type": "code",
   "execution_count": 5,
   "id": "d54210f4",
   "metadata": {},
   "outputs": [
    {
     "name": "stdout",
     "output_type": "stream",
     "text": [
      " C 드라이브의 볼륨에는 이름이 없습니다.\n",
      " 볼륨 일련 번호: 78D5-6279\n",
      "\n",
      " C:\\Develops\\files 디렉터리\n",
      "\n",
      "2021-06-23  오후 04:51            47,616 sample_codemaster.xls\n",
      "               1개 파일              47,616 바이트\n",
      "               0개 디렉터리  209,559,928,832 바이트 남음\n"
     ]
    }
   ],
   "source": [
    "!dir .\\files\\sample_codemaster.xls"
   ]
  },
  {
   "cell_type": "code",
   "execution_count": 6,
   "id": "d06bfe76",
   "metadata": {},
   "outputs": [],
   "source": [
    "sample_code = pd.read_excel('./files/sample_codemaster.xls')"
   ]
  },
  {
   "cell_type": "code",
   "execution_count": 8,
   "id": "9d0184e7",
   "metadata": {},
   "outputs": [
    {
     "data": {
      "text/plain": [
       "((6, 3), (6, 2))"
      ]
     },
     "execution_count": 8,
     "metadata": {},
     "output_type": "execute_result"
    }
   ],
   "source": [
    "sample1.shape, sample_code.shape"
   ]
  },
  {
   "cell_type": "code",
   "execution_count": 10,
   "id": "d3baa16a",
   "metadata": {},
   "outputs": [],
   "source": [
    "sample = pd.merge(left=sample1, right=sample_code )"
   ]
  },
  {
   "cell_type": "code",
   "execution_count": null,
   "id": "33c75781",
   "metadata": {},
   "outputs": [],
   "source": [
    "sample[['국적코드', '성별']]"
   ]
  },
  {
   "cell_type": "code",
   "execution_count": 12,
   "id": "594ee11a",
   "metadata": {},
   "outputs": [],
   "source": [
    "sample['기준년월'] = '2019-11'"
   ]
  },
  {
   "cell_type": "code",
   "execution_count": 13,
   "id": "24da55a6",
   "metadata": {},
   "outputs": [
    {
     "data": {
      "text/html": [
       "<div>\n",
       "<style scoped>\n",
       "    .dataframe tbody tr th:only-of-type {\n",
       "        vertical-align: middle;\n",
       "    }\n",
       "\n",
       "    .dataframe tbody tr th {\n",
       "        vertical-align: top;\n",
       "    }\n",
       "\n",
       "    .dataframe thead th {\n",
       "        text-align: right;\n",
       "    }\n",
       "</style>\n",
       "<table border=\"1\" class=\"dataframe\">\n",
       "  <thead>\n",
       "    <tr style=\"text-align: right;\">\n",
       "      <th></th>\n",
       "      <th>국적코드</th>\n",
       "      <th>성별</th>\n",
       "      <th>입국객수</th>\n",
       "      <th>국적명</th>\n",
       "      <th>기준년월</th>\n",
       "    </tr>\n",
       "  </thead>\n",
       "  <tbody>\n",
       "    <tr>\n",
       "      <th>0</th>\n",
       "      <td>A01</td>\n",
       "      <td>남성</td>\n",
       "      <td>106320</td>\n",
       "      <td>일본</td>\n",
       "      <td>2019-11</td>\n",
       "    </tr>\n",
       "    <tr>\n",
       "      <th>1</th>\n",
       "      <td>A01</td>\n",
       "      <td>여성</td>\n",
       "      <td>191436</td>\n",
       "      <td>일본</td>\n",
       "      <td>2019-11</td>\n",
       "    </tr>\n",
       "    <tr>\n",
       "      <th>2</th>\n",
       "      <td>A18</td>\n",
       "      <td>남성</td>\n",
       "      <td>158912</td>\n",
       "      <td>중국</td>\n",
       "      <td>2019-11</td>\n",
       "    </tr>\n",
       "    <tr>\n",
       "      <th>3</th>\n",
       "      <td>A18</td>\n",
       "      <td>여성</td>\n",
       "      <td>232943</td>\n",
       "      <td>중국</td>\n",
       "      <td>2019-11</td>\n",
       "    </tr>\n",
       "  </tbody>\n",
       "</table>\n",
       "</div>"
      ],
      "text/plain": [
       "  국적코드  성별    입국객수 국적명     기준년월\n",
       "0  A01  남성  106320  일본  2019-11\n",
       "1  A01  여성  191436  일본  2019-11\n",
       "2  A18  남성  158912  중국  2019-11\n",
       "3  A18  여성  232943  중국  2019-11"
      ]
     },
     "execution_count": 13,
     "metadata": {},
     "output_type": "execute_result"
    }
   ],
   "source": [
    "sample"
   ]
  },
  {
   "cell_type": "code",
   "execution_count": null,
   "id": "dcdd1057",
   "metadata": {},
   "outputs": [],
   "source": []
  }
 ],
 "metadata": {
  "kernelspec": {
   "display_name": "Python 3",
   "language": "python",
   "name": "python3"
  },
  "language_info": {
   "codemirror_mode": {
    "name": "ipython",
    "version": 3
   },
   "file_extension": ".py",
   "mimetype": "text/x-python",
   "name": "python",
   "nbconvert_exporter": "python",
   "pygments_lexer": "ipython3",
   "version": "3.6.4"
  }
 },
 "nbformat": 4,
 "nbformat_minor": 5
}
