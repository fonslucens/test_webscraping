{
 "cells": [
  {
   "cell_type": "code",
   "execution_count": 1,
   "id": "36053b52",
   "metadata": {},
   "outputs": [],
   "source": [
    "from selenium import webdriver"
   ]
  },
  {
   "cell_type": "markdown",
   "id": "a61affa8",
   "metadata": {},
   "source": [
    "Category | Title | DataRange\n",
    "\n",
    "순서\n",
    "1. HTML 불러옴\n",
    " - Browser 와 같은 동작 : selenium\n",
    "2. CSS Selector 선택 : Type ResultSet\n",
    " - Tag 형식 줄임 : 태그, 속성, Text\n",
    "3. 저장(Excel)\n",
    " -Pandas DataFrame\n",
    " \n",
    "카테고리 genreTitle \n",
    "소제목 fnRenderSubCate\n",
    "이름 prdName\n",
    "순위 flag"
   ]
  },
  {
   "cell_type": "code",
   "execution_count": 2,
   "id": "ca37ebb7",
   "metadata": {},
   "outputs": [],
   "source": [
    "browser = webdriver.Chrome('./chromedriver.exe')"
   ]
  },
  {
   "cell_type": "code",
   "execution_count": 3,
   "id": "4e2564c0",
   "metadata": {},
   "outputs": [],
   "source": [
    "browser.get('http://ticket.interpark.com/Contents/Ranking?smid1=s_menu&smid2=performance')"
   ]
  },
  {
   "cell_type": "code",
   "execution_count": 4,
   "id": "66aed4a5",
   "metadata": {},
   "outputs": [],
   "source": [
    "html = browser.page_source"
   ]
  },
  {
   "cell_type": "code",
   "execution_count": 5,
   "id": "7d58345d",
   "metadata": {},
   "outputs": [],
   "source": [
    "from bs4 import BeautifulSoup"
   ]
  },
  {
   "cell_type": "code",
   "execution_count": 6,
   "id": "26e297c7",
   "metadata": {},
   "outputs": [],
   "source": [
    "soup = BeautifulSoup(html, 'html.parser')"
   ]
  },
  {
   "cell_type": "code",
   "execution_count": 7,
   "id": "29537be2",
   "metadata": {},
   "outputs": [
    {
     "data": {
      "text/plain": [
       "(1, bs4.BeautifulSoup)"
      ]
     },
     "execution_count": 7,
     "metadata": {},
     "output_type": "execute_result"
    }
   ],
   "source": [
    "len(soup), type(soup)"
   ]
  },
  {
   "cell_type": "code",
   "execution_count": 15,
   "id": "2f973df6",
   "metadata": {},
   "outputs": [],
   "source": [
    "tags = soup.select('div.genreTitle')"
   ]
  },
  {
   "cell_type": "code",
   "execution_count": 16,
   "id": "8f613d4a",
   "metadata": {},
   "outputs": [
    {
     "data": {
      "text/plain": [
       "(8, bs4.element.ResultSet)"
      ]
     },
     "execution_count": 16,
     "metadata": {},
     "output_type": "execute_result"
    }
   ],
   "source": [
    "len(tags), type(tags)"
   ]
  },
  {
   "cell_type": "code",
   "execution_count": 14,
   "id": "bd09d43d",
   "metadata": {},
   "outputs": [],
   "source": []
  },
  {
   "cell_type": "code",
   "execution_count": null,
   "id": "57259314",
   "metadata": {},
   "outputs": [],
   "source": []
  }
 ],
 "metadata": {
  "kernelspec": {
   "display_name": "Python 3",
   "language": "python",
   "name": "python3"
  },
  "language_info": {
   "codemirror_mode": {
    "name": "ipython",
    "version": 3
   },
   "file_extension": ".py",
   "mimetype": "text/x-python",
   "name": "python",
   "nbconvert_exporter": "python",
   "pygments_lexer": "ipython3",
   "version": "3.8.8"
  }
 },
 "nbformat": 4,
 "nbformat_minor": 5
}
