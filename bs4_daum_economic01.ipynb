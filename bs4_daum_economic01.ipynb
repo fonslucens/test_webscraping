{
 "cells": [
  {
   "cell_type": "code",
   "execution_count": 1,
   "id": "c32dd8ec",
   "metadata": {},
   "outputs": [],
   "source": [
    "import requests"
   ]
  },
  {
   "cell_type": "markdown",
   "id": "3c9e2240",
   "metadata": {},
   "source": [
    "http://media.daum.net/economic/"
   ]
  },
  {
   "cell_type": "code",
   "execution_count": 2,
   "id": "89ab52d5",
   "metadata": {},
   "outputs": [],
   "source": [
    "# path = 'https://www.genie.co.kr/chart/top200'\n",
    "path = 'http://media.daum.net/economic/'\n",
    "req = requests.get(path)"
   ]
  },
  {
   "cell_type": "code",
   "execution_count": 3,
   "id": "e5546439",
   "metadata": {},
   "outputs": [
    {
     "data": {
      "text/plain": [
       "200"
      ]
     },
     "execution_count": 3,
     "metadata": {},
     "output_type": "execute_result"
    }
   ],
   "source": [
    "req.status_code"
   ]
  },
  {
   "cell_type": "code",
   "execution_count": 4,
   "id": "a9ded8ca",
   "metadata": {},
   "outputs": [],
   "source": [
    "from bs4 import BeautifulSoup"
   ]
  },
  {
   "cell_type": "code",
   "execution_count": 5,
   "id": "d08508ad",
   "metadata": {},
   "outputs": [],
   "source": [
    "soup = BeautifulSoup(req.content, 'html.parser')"
   ]
  },
  {
   "cell_type": "code",
   "execution_count": 6,
   "id": "52cc6baf",
   "metadata": {},
   "outputs": [
    {
     "data": {
      "text/plain": [
       "bs4.BeautifulSoup"
      ]
     },
     "execution_count": 6,
     "metadata": {},
     "output_type": "execute_result"
    }
   ],
   "source": [
    "type(soup)"
   ]
  },
  {
   "cell_type": "code",
   "execution_count": 7,
   "id": "6e9aa3ba",
   "metadata": {},
   "outputs": [
    {
     "data": {
      "text/plain": [
       "bs4.element.ResultSet"
      ]
     },
     "execution_count": 7,
     "metadata": {},
     "output_type": "execute_result"
    }
   ],
   "source": [
    "result = soup.select('div > strong.tit_thumb > a[href].link_txt')\n",
    "type(result)"
   ]
  },
  {
   "cell_type": "code",
   "execution_count": 8,
   "id": "be66e52a",
   "metadata": {},
   "outputs": [
    {
     "data": {
      "text/plain": [
       "<a class=\"link_txt\" data-tiara-custom=\"contentUniqueKey=hamny-20210625091539078\" data-tiara-id=\"20210625091539078\" data-tiara-layer=\"article_main\" data-tiara-ordnum=\"1\" data-tiara-type=\"harmony\" href=\"https://news.v.daum.net/v/20210625091539078\">1분기 해외직접투자 2009년 이후 최대폭 ↓..코로나19 여파 지속</a>"
      ]
     },
     "execution_count": 8,
     "metadata": {},
     "output_type": "execute_result"
    }
   ],
   "source": [
    "result[0]"
   ]
  },
  {
   "cell_type": "code",
   "execution_count": 9,
   "id": "ec4d1517",
   "metadata": {},
   "outputs": [],
   "source": [
    "tag = result[0]"
   ]
  },
  {
   "cell_type": "code",
   "execution_count": 10,
   "id": "edd64840",
   "metadata": {},
   "outputs": [
    {
     "data": {
      "text/plain": [
       "'1분기 해외직접투자 2009년 이후 최대폭 ↓..코로나19 여파 지속'"
      ]
     },
     "execution_count": 10,
     "metadata": {},
     "output_type": "execute_result"
    }
   ],
   "source": [
    "tag.text"
   ]
  },
  {
   "cell_type": "code",
   "execution_count": 11,
   "id": "6df9dfd9",
   "metadata": {},
   "outputs": [
    {
     "data": {
      "text/plain": [
       "'https://news.v.daum.net/v/20210625091539078'"
      ]
     },
     "execution_count": 11,
     "metadata": {},
     "output_type": "execute_result"
    }
   ],
   "source": [
    "tag['href']"
   ]
  },
  {
   "cell_type": "code",
   "execution_count": 12,
   "id": "4e2b03ef",
   "metadata": {},
   "outputs": [
    {
     "data": {
      "text/plain": [
       "5"
      ]
     },
     "execution_count": 12,
     "metadata": {},
     "output_type": "execute_result"
    }
   ],
   "source": [
    "contents = []\n",
    "for tag in result:\n",
    "    # print(tag.text.strip(), tag['href'].strip())\n",
    "    title = tag.text.strip()\n",
    "    link = tag['href'].strip()\n",
    "    content = [title, link]\n",
    "    contents.append(content)\n",
    "\n",
    "len(contents)"
   ]
  },
  {
   "cell_type": "code",
   "execution_count": 13,
   "id": "35c8622f",
   "metadata": {},
   "outputs": [
    {
     "data": {
      "text/plain": [
       "[['1분기 해외직접투자 2009년 이후 최대폭 ↓..코로나19 여파 지속',\n",
       "  'https://news.v.daum.net/v/20210625091539078'],\n",
       " ['한경연 \"원자재 공급난에 기업 체감경기 둔화 지속\"',\n",
       "  'https://news.v.daum.net/v/20210625060130572'],\n",
       " ['은행 배당자제령 풀었지만..조건부 중간배당 권고', 'https://news.v.daum.net/v/20210625060117561'],\n",
       " ['족쇄 풀린 여름보너스..금융주 중간배당 몇%나 될까',\n",
       "  'https://news.v.daum.net/v/20210625060102535'],\n",
       " ['은행권 배당제한 풀렸다..4대 금융지주 중간배당 나선다',\n",
       "  'https://news.v.daum.net/v/20210625060043494']]"
      ]
     },
     "execution_count": 13,
     "metadata": {},
     "output_type": "execute_result"
    }
   ],
   "source": [
    "contents"
   ]
  },
  {
   "cell_type": "code",
   "execution_count": 14,
   "id": "63768b75",
   "metadata": {},
   "outputs": [],
   "source": [
    "import pandas"
   ]
  },
  {
   "cell_type": "code",
   "execution_count": 15,
   "id": "512168e0",
   "metadata": {},
   "outputs": [
    {
     "data": {
      "text/html": [
       "<div>\n",
       "<style scoped>\n",
       "    .dataframe tbody tr th:only-of-type {\n",
       "        vertical-align: middle;\n",
       "    }\n",
       "\n",
       "    .dataframe tbody tr th {\n",
       "        vertical-align: top;\n",
       "    }\n",
       "\n",
       "    .dataframe thead th {\n",
       "        text-align: right;\n",
       "    }\n",
       "</style>\n",
       "<table border=\"1\" class=\"dataframe\">\n",
       "  <thead>\n",
       "    <tr style=\"text-align: right;\">\n",
       "      <th></th>\n",
       "      <th>Title</th>\n",
       "      <th>Link</th>\n",
       "    </tr>\n",
       "  </thead>\n",
       "  <tbody>\n",
       "    <tr>\n",
       "      <th>0</th>\n",
       "      <td>1분기 해외직접투자 2009년 이후 최대폭 ↓..코로나19 여파 지속</td>\n",
       "      <td>https://news.v.daum.net/v/20210625091539078</td>\n",
       "    </tr>\n",
       "    <tr>\n",
       "      <th>1</th>\n",
       "      <td>한경연 \"원자재 공급난에 기업 체감경기 둔화 지속\"</td>\n",
       "      <td>https://news.v.daum.net/v/20210625060130572</td>\n",
       "    </tr>\n",
       "    <tr>\n",
       "      <th>2</th>\n",
       "      <td>은행 배당자제령 풀었지만..조건부 중간배당 권고</td>\n",
       "      <td>https://news.v.daum.net/v/20210625060117561</td>\n",
       "    </tr>\n",
       "    <tr>\n",
       "      <th>3</th>\n",
       "      <td>족쇄 풀린 여름보너스..금융주 중간배당 몇%나 될까</td>\n",
       "      <td>https://news.v.daum.net/v/20210625060102535</td>\n",
       "    </tr>\n",
       "    <tr>\n",
       "      <th>4</th>\n",
       "      <td>은행권 배당제한 풀렸다..4대 금융지주 중간배당 나선다</td>\n",
       "      <td>https://news.v.daum.net/v/20210625060043494</td>\n",
       "    </tr>\n",
       "  </tbody>\n",
       "</table>\n",
       "</div>"
      ],
      "text/plain": [
       "                                    Title  \\\n",
       "0  1분기 해외직접투자 2009년 이후 최대폭 ↓..코로나19 여파 지속   \n",
       "1            한경연 \"원자재 공급난에 기업 체감경기 둔화 지속\"   \n",
       "2              은행 배당자제령 풀었지만..조건부 중간배당 권고   \n",
       "3            족쇄 풀린 여름보너스..금융주 중간배당 몇%나 될까   \n",
       "4          은행권 배당제한 풀렸다..4대 금융지주 중간배당 나선다   \n",
       "\n",
       "                                          Link  \n",
       "0  https://news.v.daum.net/v/20210625091539078  \n",
       "1  https://news.v.daum.net/v/20210625060130572  \n",
       "2  https://news.v.daum.net/v/20210625060117561  \n",
       "3  https://news.v.daum.net/v/20210625060102535  \n",
       "4  https://news.v.daum.net/v/20210625060043494  "
      ]
     },
     "execution_count": 15,
     "metadata": {},
     "output_type": "execute_result"
    }
   ],
   "source": [
    "pandas.DataFrame(contents, columns=['Title', 'Link'])"
   ]
  },
  {
   "cell_type": "code",
   "execution_count": 16,
   "id": "27faeb4a",
   "metadata": {},
   "outputs": [
    {
     "ename": "NameError",
     "evalue": "name 'pd' is not defined",
     "output_type": "error",
     "traceback": [
      "\u001b[1;31m---------------------------------------------------------------------------\u001b[0m",
      "\u001b[1;31mNameError\u001b[0m                                 Traceback (most recent call last)",
      "\u001b[1;32m<ipython-input-16-ff8d9bf60f26>\u001b[0m in \u001b[0;36m<module>\u001b[1;34m\u001b[0m\n\u001b[1;32m----> 1\u001b[1;33m \u001b[0mpd\u001b[0m\u001b[1;33m.\u001b[0m\u001b[0mto_excel\u001b[0m\u001b[1;33m(\u001b[0m\u001b[1;34m'./saves/economic01.xls'\u001b[0m\u001b[1;33m,\u001b[0m \u001b[0mindex\u001b[0m\u001b[1;33m=\u001b[0m\u001b[1;32mFalse\u001b[0m\u001b[1;33m)\u001b[0m\u001b[1;33m\u001b[0m\u001b[1;33m\u001b[0m\u001b[0m\n\u001b[0m",
      "\u001b[1;31mNameError\u001b[0m: name 'pd' is not defined"
     ]
    }
   ],
   "source": [
    "pd.to_excel('./saves/economic01.xls', index=False)"
   ]
  },
  {
   "cell_type": "code",
   "execution_count": null,
   "id": "4826fa19",
   "metadata": {},
   "outputs": [],
   "source": []
  }
 ],
 "metadata": {
  "kernelspec": {
   "display_name": "Python 3",
   "language": "python",
   "name": "python3"
  },
  "language_info": {
   "codemirror_mode": {
    "name": "ipython",
    "version": 3
   },
   "file_extension": ".py",
   "mimetype": "text/x-python",
   "name": "python",
   "nbconvert_exporter": "python",
   "pygments_lexer": "ipython3",
   "version": "3.8.8"
  }
 },
 "nbformat": 4,
 "nbformat_minor": 5
}
